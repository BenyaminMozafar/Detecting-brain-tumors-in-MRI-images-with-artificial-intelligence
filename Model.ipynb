{
 "cells": [
  {
   "cell_type": "code",
   "execution_count": 26,
   "id": "fd0b772f",
   "metadata": {},
   "outputs": [],
   "source": [
    "import tensorflow as tf\n",
    "from tensorflow.keras import layers, models\n",
    "from tensorflow.keras.applications import MobileNetV2     \n",
    "from tensorflow.keras.applications.mobilenet_v2 import preprocess_input\n",
    "from tensorflow.keras.callbacks import EarlyStopping, ReduceLROnPlateau, ModelCheckpoint\n",
    "import numpy as np\n",
    "import os\n",
    "from sklearn.metrics import classification_report, confusion_matrix\n",
    "import matplotlib.pyplot as plt "
   ]
  },
  {
   "cell_type": "code",
   "execution_count": 27,
   "id": "651cdd6d",
   "metadata": {},
   "outputs": [],
   "source": [
    "tf.get_logger().setLevel('ERROR')"
   ]
  },
  {
   "cell_type": "code",
   "execution_count": 28,
   "id": "366efcfc",
   "metadata": {},
   "outputs": [],
   "source": [
    "dataset_path = 'BrainTumorDataSet/Train' \n",
    "validation_path = 'BrainTumorDataSet/Test' \n",
    "\n",
    "img_size = (224, 224)\n",
    "batch_size = 16\n",
    "CLASS_WEIGHTS = {0: 1.0, 1: 1.5} "
   ]
  },
  {
   "cell_type": "code",
   "execution_count": 29,
   "id": "9a39bade",
   "metadata": {},
   "outputs": [
    {
     "name": "stdout",
     "output_type": "stream",
     "text": [
      "Found 589 files belonging to 2 classes.\n",
      "Found 203 files belonging to 2 classes.\n",
      "Found 203 files belonging to 2 classes.\n",
      "نام کلاس‌ها: ['healthy', 'tumor']\n"
     ]
    }
   ],
   "source": [
    "try:\n",
    "    train_ds = tf.keras.preprocessing.image_dataset_from_directory(\n",
    "        dataset_path,\n",
    "        seed=123,\n",
    "        image_size=img_size,\n",
    "        batch_size=batch_size\n",
    "    )\n",
    "\n",
    "    val_ds = tf.keras.preprocessing.image_dataset_from_directory(\n",
    "        validation_path,\n",
    "        seed=123,\n",
    "        image_size=img_size,\n",
    "        batch_size=batch_size\n",
    "    )\n",
    "    \n",
    "    val_ds_unshuffled = tf.keras.preprocessing.image_dataset_from_directory(\n",
    "        validation_path,\n",
    "        seed=123,\n",
    "        image_size=img_size,\n",
    "        batch_size=1, \n",
    "        shuffle=False \n",
    "    )\n",
    "except Exception as e:\n",
    "    print(f\"\\nFATAL ERROR: An error occurred while loading the data. Please check the following paths:\")\n",
    "    print(f\"Training path: {dataset_path}\")\n",
    "    print(f\"Validation path: {validation_path}\")\n",
    "    print(f\"Error details: {e}\")\n",
    "    exit()\n",
    "\n",
    "class_names = train_ds.class_names\n",
    "print(f\"Class names: {class_names}\")"
   ]
  },
  {
   "cell_type": "code",
   "execution_count": 30,
   "id": "4c1373e2",
   "metadata": {},
   "outputs": [],
   "source": [
    "data_augmentation = tf.keras.Sequential([\n",
    "    layers.RandomFlip(\"horizontal\"),\n",
    "    layers.RandomRotation(0.2),\n",
    "    layers.RandomZoom(0.2),\n",
    "    layers.RandomContrast(0.2)\n",
    "])\n"
   ]
  },
  {
   "cell_type": "code",
   "execution_count": 31,
   "id": "5ef3f8b8",
   "metadata": {},
   "outputs": [],
   "source": [
    "train_ds = train_ds.map(lambda x, y: (data_augmentation(x), y))\n",
    "train_ds = train_ds.map(lambda x, y: (preprocess_input(x), y))\n",
    "val_ds = val_ds.map(lambda x, y: (preprocess_input(x), y))\n",
    "val_ds_unshuffled = val_ds_unshuffled.map(lambda x, y: (preprocess_input(x), y)) \n",
    "\n",
    "AUTOTUNE = tf.data.AUTOTUNE\n",
    "train_ds = train_ds.cache().prefetch(buffer_size=AUTOTUNE)\n",
    "val_ds = val_ds.cache().prefetch(buffer_size=AUTOTUNE)\n",
    "val_ds_unshuffled = val_ds_unshuffled.cache().prefetch(buffer_size=AUTOTUNE) \n"
   ]
  },
  {
   "cell_type": "code",
   "execution_count": 32,
   "id": "51a864fe",
   "metadata": {},
   "outputs": [],
   "source": [
    "base_model = MobileNetV2(\n",
    "    input_shape=(224, 224, 3), \n",
    "    include_top=False, \n",
    "    weights=\"mobilenet_v2_weights_tf_dim_ordering_tf_kernels_1.0_224_no_top.h5\" \n",
    ")"
   ]
  },
  {
   "cell_type": "code",
   "execution_count": 10,
   "id": "e95e31b4",
   "metadata": {},
   "outputs": [
    {
     "name": "stdout",
     "output_type": "stream",
     "text": [
      "\n",
      "--- خلاصه‌ای از معماری مدل (Head ساده و کارآمد) ---\n"
     ]
    },
    {
     "data": {
      "text/html": [
       "<pre style=\"white-space:pre;overflow-x:auto;line-height:normal;font-family:Menlo,'DejaVu Sans Mono',consolas,'Courier New',monospace\"><span style=\"font-weight: bold\">Model: \"sequential_2\"</span>\n",
       "</pre>\n"
      ],
      "text/plain": [
       "\u001b[1mModel: \"sequential_2\"\u001b[0m\n"
      ]
     },
     "metadata": {},
     "output_type": "display_data"
    },
    {
     "data": {
      "text/html": [
       "<pre style=\"white-space:pre;overflow-x:auto;line-height:normal;font-family:Menlo,'DejaVu Sans Mono',consolas,'Courier New',monospace\">┏━━━━━━━━━━━━━━━━━━━━━━━━━━━━━━━━━━━━━━┳━━━━━━━━━━━━━━━━━━━━━━━━━━━━━┳━━━━━━━━━━━━━━━━━┓\n",
       "┃<span style=\"font-weight: bold\"> Layer (type)                         </span>┃<span style=\"font-weight: bold\"> Output Shape                </span>┃<span style=\"font-weight: bold\">         Param # </span>┃\n",
       "┡━━━━━━━━━━━━━━━━━━━━━━━━━━━━━━━━━━━━━━╇━━━━━━━━━━━━━━━━━━━━━━━━━━━━━╇━━━━━━━━━━━━━━━━━┩\n",
       "│ mobilenetv2_1.00_224 (<span style=\"color: #0087ff; text-decoration-color: #0087ff\">Functional</span>)    │ (<span style=\"color: #00d7ff; text-decoration-color: #00d7ff\">None</span>, <span style=\"color: #00af00; text-decoration-color: #00af00\">7</span>, <span style=\"color: #00af00; text-decoration-color: #00af00\">7</span>, <span style=\"color: #00af00; text-decoration-color: #00af00\">1280</span>)          │       <span style=\"color: #00af00; text-decoration-color: #00af00\">2,257,984</span> │\n",
       "├──────────────────────────────────────┼─────────────────────────────┼─────────────────┤\n",
       "│ global_average_pooling2d_1           │ (<span style=\"color: #00d7ff; text-decoration-color: #00d7ff\">None</span>, <span style=\"color: #00af00; text-decoration-color: #00af00\">1280</span>)                │               <span style=\"color: #00af00; text-decoration-color: #00af00\">0</span> │\n",
       "│ (<span style=\"color: #0087ff; text-decoration-color: #0087ff\">GlobalAveragePooling2D</span>)             │                             │                 │\n",
       "├──────────────────────────────────────┼─────────────────────────────┼─────────────────┤\n",
       "│ dense_2 (<span style=\"color: #0087ff; text-decoration-color: #0087ff\">Dense</span>)                      │ (<span style=\"color: #00d7ff; text-decoration-color: #00d7ff\">None</span>, <span style=\"color: #00af00; text-decoration-color: #00af00\">512</span>)                 │         <span style=\"color: #00af00; text-decoration-color: #00af00\">655,872</span> │\n",
       "├──────────────────────────────────────┼─────────────────────────────┼─────────────────┤\n",
       "│ dropout_1 (<span style=\"color: #0087ff; text-decoration-color: #0087ff\">Dropout</span>)                  │ (<span style=\"color: #00d7ff; text-decoration-color: #00d7ff\">None</span>, <span style=\"color: #00af00; text-decoration-color: #00af00\">512</span>)                 │               <span style=\"color: #00af00; text-decoration-color: #00af00\">0</span> │\n",
       "├──────────────────────────────────────┼─────────────────────────────┼─────────────────┤\n",
       "│ dense_3 (<span style=\"color: #0087ff; text-decoration-color: #0087ff\">Dense</span>)                      │ (<span style=\"color: #00d7ff; text-decoration-color: #00d7ff\">None</span>, <span style=\"color: #00af00; text-decoration-color: #00af00\">2</span>)                   │           <span style=\"color: #00af00; text-decoration-color: #00af00\">1,026</span> │\n",
       "└──────────────────────────────────────┴─────────────────────────────┴─────────────────┘\n",
       "</pre>\n"
      ],
      "text/plain": [
       "┏━━━━━━━━━━━━━━━━━━━━━━━━━━━━━━━━━━━━━━┳━━━━━━━━━━━━━━━━━━━━━━━━━━━━━┳━━━━━━━━━━━━━━━━━┓\n",
       "┃\u001b[1m \u001b[0m\u001b[1mLayer (type)                        \u001b[0m\u001b[1m \u001b[0m┃\u001b[1m \u001b[0m\u001b[1mOutput Shape               \u001b[0m\u001b[1m \u001b[0m┃\u001b[1m \u001b[0m\u001b[1m        Param #\u001b[0m\u001b[1m \u001b[0m┃\n",
       "┡━━━━━━━━━━━━━━━━━━━━━━━━━━━━━━━━━━━━━━╇━━━━━━━━━━━━━━━━━━━━━━━━━━━━━╇━━━━━━━━━━━━━━━━━┩\n",
       "│ mobilenetv2_1.00_224 (\u001b[38;5;33mFunctional\u001b[0m)    │ (\u001b[38;5;45mNone\u001b[0m, \u001b[38;5;34m7\u001b[0m, \u001b[38;5;34m7\u001b[0m, \u001b[38;5;34m1280\u001b[0m)          │       \u001b[38;5;34m2,257,984\u001b[0m │\n",
       "├──────────────────────────────────────┼─────────────────────────────┼─────────────────┤\n",
       "│ global_average_pooling2d_1           │ (\u001b[38;5;45mNone\u001b[0m, \u001b[38;5;34m1280\u001b[0m)                │               \u001b[38;5;34m0\u001b[0m │\n",
       "│ (\u001b[38;5;33mGlobalAveragePooling2D\u001b[0m)             │                             │                 │\n",
       "├──────────────────────────────────────┼─────────────────────────────┼─────────────────┤\n",
       "│ dense_2 (\u001b[38;5;33mDense\u001b[0m)                      │ (\u001b[38;5;45mNone\u001b[0m, \u001b[38;5;34m512\u001b[0m)                 │         \u001b[38;5;34m655,872\u001b[0m │\n",
       "├──────────────────────────────────────┼─────────────────────────────┼─────────────────┤\n",
       "│ dropout_1 (\u001b[38;5;33mDropout\u001b[0m)                  │ (\u001b[38;5;45mNone\u001b[0m, \u001b[38;5;34m512\u001b[0m)                 │               \u001b[38;5;34m0\u001b[0m │\n",
       "├──────────────────────────────────────┼─────────────────────────────┼─────────────────┤\n",
       "│ dense_3 (\u001b[38;5;33mDense\u001b[0m)                      │ (\u001b[38;5;45mNone\u001b[0m, \u001b[38;5;34m2\u001b[0m)                   │           \u001b[38;5;34m1,026\u001b[0m │\n",
       "└──────────────────────────────────────┴─────────────────────────────┴─────────────────┘\n"
      ]
     },
     "metadata": {},
     "output_type": "display_data"
    },
    {
     "data": {
      "text/html": [
       "<pre style=\"white-space:pre;overflow-x:auto;line-height:normal;font-family:Menlo,'DejaVu Sans Mono',consolas,'Courier New',monospace\"><span style=\"font-weight: bold\"> Total params: </span><span style=\"color: #00af00; text-decoration-color: #00af00\">2,914,882</span> (11.12 MB)\n",
       "</pre>\n"
      ],
      "text/plain": [
       "\u001b[1m Total params: \u001b[0m\u001b[38;5;34m2,914,882\u001b[0m (11.12 MB)\n"
      ]
     },
     "metadata": {},
     "output_type": "display_data"
    },
    {
     "data": {
      "text/html": [
       "<pre style=\"white-space:pre;overflow-x:auto;line-height:normal;font-family:Menlo,'DejaVu Sans Mono',consolas,'Courier New',monospace\"><span style=\"font-weight: bold\"> Trainable params: </span><span style=\"color: #00af00; text-decoration-color: #00af00\">656,898</span> (2.51 MB)\n",
       "</pre>\n"
      ],
      "text/plain": [
       "\u001b[1m Trainable params: \u001b[0m\u001b[38;5;34m656,898\u001b[0m (2.51 MB)\n"
      ]
     },
     "metadata": {},
     "output_type": "display_data"
    },
    {
     "data": {
      "text/html": [
       "<pre style=\"white-space:pre;overflow-x:auto;line-height:normal;font-family:Menlo,'DejaVu Sans Mono',consolas,'Courier New',monospace\"><span style=\"font-weight: bold\"> Non-trainable params: </span><span style=\"color: #00af00; text-decoration-color: #00af00\">2,257,984</span> (8.61 MB)\n",
       "</pre>\n"
      ],
      "text/plain": [
       "\u001b[1m Non-trainable params: \u001b[0m\u001b[38;5;34m2,257,984\u001b[0m (8.61 MB)\n"
      ]
     },
     "metadata": {},
     "output_type": "display_data"
    }
   ],
   "source": [
    "base_model.trainable = False\n",
    "\n",
    "model = models.Sequential([\n",
    "    layers.Input(shape=(224, 224, 3)),\n",
    "    base_model,\n",
    "    layers.GlobalAveragePooling2D(),\n",
    "    \n",
    "    layers.Dense(512, activation='relu'), \n",
    "    layers.Dropout(0.3),\n",
    "    \n",
    "    layers.Dense(2, activation='softmax') \n",
    "])\n",
    "\n",
    "print(\"\\n--- A brief summary of the model architecture (Simple and Efficient Head) ---\")\n",
    "model.summary()"
   ]
  },
  {
   "cell_type": "code",
   "execution_count": 11,
   "id": "7b5bc889",
   "metadata": {},
   "outputs": [
    {
     "name": "stdout",
     "output_type": "stream",
     "text": [
      "\n",
      "--- شروع فاز ۱: آموزش لایه‌های بالایی (Head) ---\n",
      "Epoch 1/50\n",
      "\u001b[1m37/37\u001b[0m \u001b[32m━━━━━━━━━━━━━━━━━━━━\u001b[0m\u001b[37m\u001b[0m \u001b[1m28s\u001b[0m 570ms/step - accuracy: 0.7602 - loss: 0.6995 - val_accuracy: 0.8522 - val_loss: 0.3266 - learning_rate: 0.0010\n",
      "Epoch 2/50\n",
      "\u001b[1m37/37\u001b[0m \u001b[32m━━━━━━━━━━━━━━━━━━━━\u001b[0m\u001b[37m\u001b[0m \u001b[1m12s\u001b[0m 325ms/step - accuracy: 0.9080 - loss: 0.2961 - val_accuracy: 0.9803 - val_loss: 0.0361 - learning_rate: 0.0010\n",
      "Epoch 3/50\n",
      "\u001b[1m37/37\u001b[0m \u001b[32m━━━━━━━━━━━━━━━━━━━━\u001b[0m\u001b[37m\u001b[0m \u001b[1m12s\u001b[0m 336ms/step - accuracy: 0.9623 - loss: 0.1170 - val_accuracy: 0.9852 - val_loss: 0.0360 - learning_rate: 0.0010\n",
      "Epoch 4/50\n",
      "\u001b[1m37/37\u001b[0m \u001b[32m━━━━━━━━━━━━━━━━━━━━\u001b[0m\u001b[37m\u001b[0m \u001b[1m11s\u001b[0m 301ms/step - accuracy: 0.9643 - loss: 0.1238 - val_accuracy: 0.9803 - val_loss: 0.0491 - learning_rate: 0.0010\n",
      "Epoch 5/50\n",
      "\u001b[1m37/37\u001b[0m \u001b[32m━━━━━━━━━━━━━━━━━━━━\u001b[0m\u001b[37m\u001b[0m \u001b[1m12s\u001b[0m 320ms/step - accuracy: 0.9596 - loss: 0.1033 - val_accuracy: 0.9901 - val_loss: 0.0315 - learning_rate: 0.0010\n",
      "Epoch 6/50\n",
      "\u001b[1m37/37\u001b[0m \u001b[32m━━━━━━━━━━━━━━━━━━━━\u001b[0m\u001b[37m\u001b[0m \u001b[1m11s\u001b[0m 301ms/step - accuracy: 0.9677 - loss: 0.1000 - val_accuracy: 0.9704 - val_loss: 0.0729 - learning_rate: 0.0010\n",
      "Epoch 7/50\n",
      "\u001b[1m37/37\u001b[0m \u001b[32m━━━━━━━━━━━━━━━━━━━━\u001b[0m\u001b[37m\u001b[0m \u001b[1m11s\u001b[0m 308ms/step - accuracy: 0.9906 - loss: 0.0273 - val_accuracy: 0.9754 - val_loss: 0.0529 - learning_rate: 0.0010\n",
      "Epoch 8/50\n",
      "\u001b[1m37/37\u001b[0m \u001b[32m━━━━━━━━━━━━━━━━━━━━\u001b[0m\u001b[37m\u001b[0m \u001b[1m11s\u001b[0m 302ms/step - accuracy: 1.0000 - loss: 0.0169 - val_accuracy: 0.9852 - val_loss: 0.0315 - learning_rate: 0.0010\n",
      "Epoch 9/50\n",
      "\u001b[1m37/37\u001b[0m \u001b[32m━━━━━━━━━━━━━━━━━━━━\u001b[0m\u001b[37m\u001b[0m \u001b[1m12s\u001b[0m 324ms/step - accuracy: 1.0000 - loss: 0.0090 - val_accuracy: 0.9852 - val_loss: 0.0287 - learning_rate: 1.0000e-04\n",
      "Epoch 10/50\n",
      "\u001b[1m37/37\u001b[0m \u001b[32m━━━━━━━━━━━━━━━━━━━━\u001b[0m\u001b[37m\u001b[0m \u001b[1m12s\u001b[0m 337ms/step - accuracy: 0.9979 - loss: 0.0091 - val_accuracy: 0.9852 - val_loss: 0.0259 - learning_rate: 1.0000e-04\n",
      "Epoch 11/50\n",
      "\u001b[1m37/37\u001b[0m \u001b[32m━━━━━━━━━━━━━━━━━━━━\u001b[0m\u001b[37m\u001b[0m \u001b[1m12s\u001b[0m 315ms/step - accuracy: 1.0000 - loss: 0.0092 - val_accuracy: 0.9803 - val_loss: 0.0326 - learning_rate: 1.0000e-04\n",
      "Epoch 12/50\n",
      "\u001b[1m37/37\u001b[0m \u001b[32m━━━━━━━━━━━━━━━━━━━━\u001b[0m\u001b[37m\u001b[0m \u001b[1m12s\u001b[0m 318ms/step - accuracy: 1.0000 - loss: 0.0099 - val_accuracy: 0.9803 - val_loss: 0.0303 - learning_rate: 1.0000e-04\n",
      "Epoch 13/50\n",
      "\u001b[1m37/37\u001b[0m \u001b[32m━━━━━━━━━━━━━━━━━━━━\u001b[0m\u001b[37m\u001b[0m \u001b[1m12s\u001b[0m 333ms/step - accuracy: 1.0000 - loss: 0.0085 - val_accuracy: 0.9852 - val_loss: 0.0257 - learning_rate: 1.0000e-04\n",
      "Epoch 14/50\n",
      "\u001b[1m37/37\u001b[0m \u001b[32m━━━━━━━━━━━━━━━━━━━━\u001b[0m\u001b[37m\u001b[0m \u001b[1m12s\u001b[0m 315ms/step - accuracy: 1.0000 - loss: 0.0067 - val_accuracy: 0.9852 - val_loss: 0.0263 - learning_rate: 1.0000e-04\n",
      "Epoch 15/50\n",
      "\u001b[1m37/37\u001b[0m \u001b[32m━━━━━━━━━━━━━━━━━━━━\u001b[0m\u001b[37m\u001b[0m \u001b[1m12s\u001b[0m 316ms/step - accuracy: 1.0000 - loss: 0.0105 - val_accuracy: 0.9803 - val_loss: 0.0294 - learning_rate: 1.0000e-04\n",
      "Epoch 16/50\n",
      "\u001b[1m37/37\u001b[0m \u001b[32m━━━━━━━━━━━━━━━━━━━━\u001b[0m\u001b[37m\u001b[0m \u001b[1m12s\u001b[0m 315ms/step - accuracy: 0.9998 - loss: 0.0069 - val_accuracy: 0.9803 - val_loss: 0.0272 - learning_rate: 1.0000e-04\n",
      "Epoch 17/50\n",
      "\u001b[1m37/37\u001b[0m \u001b[32m━━━━━━━━━━━━━━━━━━━━\u001b[0m\u001b[37m\u001b[0m \u001b[1m12s\u001b[0m 318ms/step - accuracy: 1.0000 - loss: 0.0057 - val_accuracy: 0.9803 - val_loss: 0.0273 - learning_rate: 1.0000e-05\n",
      "Epoch 18/50\n",
      "\u001b[1m37/37\u001b[0m \u001b[32m━━━━━━━━━━━━━━━━━━━━\u001b[0m\u001b[37m\u001b[0m \u001b[1m12s\u001b[0m 315ms/step - accuracy: 1.0000 - loss: 0.0053 - val_accuracy: 0.9803 - val_loss: 0.0273 - learning_rate: 1.0000e-05\n"
     ]
    }
   ],
   "source": [
    "print(\"\\n--- Beginning Phase 1: Training the top layers (Head) ---\")\n",
    "\n",
    "model.compile(optimizer='adam',\n",
    "              loss='sparse_categorical_crossentropy',\n",
    "              metrics=['accuracy'])\n",
    "\n",
    "history = model.fit(\n",
    "    train_ds,\n",
    "    validation_data=val_ds,\n",
    "    epochs=50, \n",
    "    callbacks=[\n",
    "        EarlyStopping(patience=5, restore_best_weights=True, monitor='val_loss'), \n",
    "        ReduceLROnPlateau(patience=3, monitor='val_loss'), \n",
    "        ModelCheckpoint(\"mobilenet_base_optimized_simple.keras\", save_best_only=True)\n",
    "    ],\n",
    "    class_weight=CLASS_WEIGHTS \n",
    ")"
   ]
  },
  {
   "cell_type": "code",
   "execution_count": 12,
   "id": "84433586",
   "metadata": {},
   "outputs": [
    {
     "name": "stdout",
     "output_type": "stream",
     "text": [
      "\n",
      "--- شروع فاز ۲: تنظیم دقیق (Fine-Tuning) لایه‌های عمقی ---\n",
      "Epoch 1/50\n",
      "\u001b[1m37/37\u001b[0m \u001b[32m━━━━━━━━━━━━━━━━━━━━\u001b[0m\u001b[37m\u001b[0m \u001b[1m32s\u001b[0m 544ms/step - accuracy: 0.8474 - loss: 0.4541 - val_accuracy: 0.9803 - val_loss: 0.0454 - learning_rate: 1.0000e-05\n",
      "Epoch 2/50\n",
      "\u001b[1m37/37\u001b[0m \u001b[32m━━━━━━━━━━━━━━━━━━━━\u001b[0m\u001b[37m\u001b[0m \u001b[1m16s\u001b[0m 430ms/step - accuracy: 0.9506 - loss: 0.1259 - val_accuracy: 0.9803 - val_loss: 0.0318 - learning_rate: 1.0000e-05\n",
      "Epoch 3/50\n",
      "\u001b[1m37/37\u001b[0m \u001b[32m━━━━━━━━━━━━━━━━━━━━\u001b[0m\u001b[37m\u001b[0m \u001b[1m16s\u001b[0m 430ms/step - accuracy: 0.9835 - loss: 0.0632 - val_accuracy: 0.9852 - val_loss: 0.0238 - learning_rate: 1.0000e-05\n",
      "Epoch 4/50\n",
      "\u001b[1m37/37\u001b[0m \u001b[32m━━━━━━━━━━━━━━━━━━━━\u001b[0m\u001b[37m\u001b[0m \u001b[1m16s\u001b[0m 434ms/step - accuracy: 0.9943 - loss: 0.0385 - val_accuracy: 0.9852 - val_loss: 0.0230 - learning_rate: 1.0000e-05\n",
      "Epoch 5/50\n",
      "\u001b[1m37/37\u001b[0m \u001b[32m━━━━━━━━━━━━━━━━━━━━\u001b[0m\u001b[37m\u001b[0m \u001b[1m16s\u001b[0m 434ms/step - accuracy: 0.9968 - loss: 0.0235 - val_accuracy: 0.9901 - val_loss: 0.0190 - learning_rate: 1.0000e-05\n",
      "Epoch 6/50\n",
      "\u001b[1m37/37\u001b[0m \u001b[32m━━━━━━━━━━━━━━━━━━━━\u001b[0m\u001b[37m\u001b[0m \u001b[1m20s\u001b[0m 418ms/step - accuracy: 1.0000 - loss: 0.0183 - val_accuracy: 0.9901 - val_loss: 0.0177 - learning_rate: 1.0000e-05\n",
      "Epoch 7/50\n",
      "\u001b[1m37/37\u001b[0m \u001b[32m━━━━━━━━━━━━━━━━━━━━\u001b[0m\u001b[37m\u001b[0m \u001b[1m15s\u001b[0m 401ms/step - accuracy: 1.0000 - loss: 0.0143 - val_accuracy: 0.9901 - val_loss: 0.0191 - learning_rate: 1.0000e-05\n",
      "Epoch 8/50\n",
      "\u001b[1m37/37\u001b[0m \u001b[32m━━━━━━━━━━━━━━━━━━━━\u001b[0m\u001b[37m\u001b[0m \u001b[1m14s\u001b[0m 391ms/step - accuracy: 1.0000 - loss: 0.0103 - val_accuracy: 0.9901 - val_loss: 0.0178 - learning_rate: 1.0000e-05\n",
      "Epoch 9/50\n",
      "\u001b[1m37/37\u001b[0m \u001b[32m━━━━━━━━━━━━━━━━━━━━\u001b[0m\u001b[37m\u001b[0m \u001b[1m15s\u001b[0m 417ms/step - accuracy: 1.0000 - loss: 0.0083 - val_accuracy: 0.9901 - val_loss: 0.0168 - learning_rate: 1.0000e-05\n",
      "Epoch 10/50\n",
      "\u001b[1m37/37\u001b[0m \u001b[32m━━━━━━━━━━━━━━━━━━━━\u001b[0m\u001b[37m\u001b[0m \u001b[1m15s\u001b[0m 395ms/step - accuracy: 1.0000 - loss: 0.0084 - val_accuracy: 0.9901 - val_loss: 0.0170 - learning_rate: 1.0000e-05\n",
      "Epoch 11/50\n",
      "\u001b[1m37/37\u001b[0m \u001b[32m━━━━━━━━━━━━━━━━━━━━\u001b[0m\u001b[37m\u001b[0m \u001b[1m15s\u001b[0m 413ms/step - accuracy: 1.0000 - loss: 0.0090 - val_accuracy: 0.9901 - val_loss: 0.0168 - learning_rate: 1.0000e-05\n",
      "Epoch 12/50\n",
      "\u001b[1m37/37\u001b[0m \u001b[32m━━━━━━━━━━━━━━━━━━━━\u001b[0m\u001b[37m\u001b[0m \u001b[1m16s\u001b[0m 425ms/step - accuracy: 1.0000 - loss: 0.0064 - val_accuracy: 0.9901 - val_loss: 0.0166 - learning_rate: 1.0000e-05\n",
      "Epoch 13/50\n",
      "\u001b[1m37/37\u001b[0m \u001b[32m━━━━━━━━━━━━━━━━━━━━\u001b[0m\u001b[37m\u001b[0m \u001b[1m15s\u001b[0m 414ms/step - accuracy: 1.0000 - loss: 0.0050 - val_accuracy: 0.9901 - val_loss: 0.0164 - learning_rate: 1.0000e-05\n",
      "Epoch 14/50\n",
      "\u001b[1m37/37\u001b[0m \u001b[32m━━━━━━━━━━━━━━━━━━━━\u001b[0m\u001b[37m\u001b[0m \u001b[1m14s\u001b[0m 391ms/step - accuracy: 1.0000 - loss: 0.0042 - val_accuracy: 0.9901 - val_loss: 0.0166 - learning_rate: 1.0000e-05\n",
      "Epoch 15/50\n",
      "\u001b[1m37/37\u001b[0m \u001b[32m━━━━━━━━━━━━━━━━━━━━\u001b[0m\u001b[37m\u001b[0m \u001b[1m15s\u001b[0m 411ms/step - accuracy: 1.0000 - loss: 0.0051 - val_accuracy: 0.9951 - val_loss: 0.0164 - learning_rate: 1.0000e-05\n",
      "Epoch 16/50\n",
      "\u001b[1m37/37\u001b[0m \u001b[32m━━━━━━━━━━━━━━━━━━━━\u001b[0m\u001b[37m\u001b[0m \u001b[1m14s\u001b[0m 389ms/step - accuracy: 1.0000 - loss: 0.0057 - val_accuracy: 0.9951 - val_loss: 0.0166 - learning_rate: 1.0000e-05\n",
      "Epoch 17/50\n",
      "\u001b[1m37/37\u001b[0m \u001b[32m━━━━━━━━━━━━━━━━━━━━\u001b[0m\u001b[37m\u001b[0m \u001b[1m15s\u001b[0m 394ms/step - accuracy: 1.0000 - loss: 0.0038 - val_accuracy: 0.9951 - val_loss: 0.0170 - learning_rate: 1.0000e-06\n",
      "Epoch 18/50\n",
      "\u001b[1m37/37\u001b[0m \u001b[32m━━━━━━━━━━━━━━━━━━━━\u001b[0m\u001b[37m\u001b[0m \u001b[1m14s\u001b[0m 390ms/step - accuracy: 1.0000 - loss: 0.0031 - val_accuracy: 0.9951 - val_loss: 0.0174 - learning_rate: 1.0000e-06\n",
      "Epoch 19/50\n",
      "\u001b[1m37/37\u001b[0m \u001b[32m━━━━━━━━━━━━━━━━━━━━\u001b[0m\u001b[37m\u001b[0m \u001b[1m14s\u001b[0m 388ms/step - accuracy: 1.0000 - loss: 0.0035 - val_accuracy: 0.9951 - val_loss: 0.0179 - learning_rate: 1.0000e-06\n",
      "Epoch 20/50\n",
      "\u001b[1m37/37\u001b[0m \u001b[32m━━━━━━━━━━━━━━━━━━━━\u001b[0m\u001b[37m\u001b[0m \u001b[1m14s\u001b[0m 393ms/step - accuracy: 1.0000 - loss: 0.0031 - val_accuracy: 0.9951 - val_loss: 0.0185 - learning_rate: 1.0000e-07\n"
     ]
    }
   ],
   "source": [
    "print(\"\\n--- Beginning Phase 2: Fine-Tuning the deeper layers ---\")\n",
    "\n",
    "base_model.trainable = True\n",
    "\n",
    "for layer in base_model.layers[:-30]: \n",
    "    layer.trainable = False\n",
    "    \n",
    "model.compile(optimizer=tf.keras.optimizers.Adam(1e-5), \n",
    "              loss='sparse_categorical_crossentropy',\n",
    "              metrics=['accuracy'])\n",
    "\n",
    "history_ft = model.fit(\n",
    "    train_ds,\n",
    "    validation_data=val_ds,\n",
    "    epochs=50, \n",
    "    callbacks=[\n",
    "        EarlyStopping(patience=5, restore_best_weights=True, monitor='val_loss'), \n",
    "        ReduceLROnPlateau(patience=3, monitor='val_loss'), \n",
    "        ModelCheckpoint(\"mobilenet_finetuned_optimized_simple.keras\", save_best_only=True)\n",
    "    ],\n",
    "    class_weight=CLASS_WEIGHTS\n",
    ")"
   ]
  },
  {
   "cell_type": "code",
   "execution_count": 13,
   "id": "d23694d5",
   "metadata": {},
   "outputs": [
    {
     "name": "stderr",
     "output_type": "stream",
     "text": [
      "WARNING:absl:You are saving your model as an HDF5 file via `model.save()` or `keras.saving.save_model(model)`. This file format is considered legacy. We recommend using instead the native Keras format, e.g. `model.save('my_model.keras')` or `keras.saving.save_model(model, 'my_model.keras')`. \n"
     ]
    },
    {
     "name": "stdout",
     "output_type": "stream",
     "text": [
      "\n",
      "--- مدل نهایی با معماری ساده‌تر ذخیره شد ---\n"
     ]
    }
   ],
   "source": [
    "model.save(\"mobilenet_test_optimized_simple_final99.h5\", include_optimizer=False)\n",
    "print(\"\\n--- Final model saved ---\")"
   ]
  },
  {
   "cell_type": "code",
   "execution_count": 14,
   "id": "f9afea85",
   "metadata": {},
   "outputs": [
    {
     "name": "stdout",
     "output_type": "stream",
     "text": [
      "\n",
      "--- ۶. ارزیابی نهایی برای استخراج خطاها و احتمالات ---\n",
      "\n",
      "ماتریس درهم ریختگی (Confusion Matrix) - آستانه ۰.۵:\n",
      "[[104   0]\n",
      " [  1  98]]\n",
      "\n",
      "گزارش طبقه‌بندی (Classification Report) - آستانه ۰.۵:\n",
      "              precision    recall  f1-score   support\n",
      "\n",
      "     healthy       0.99      1.00      1.00       104\n",
      "       tumor       1.00      0.99      0.99        99\n",
      "\n",
      "    accuracy                           1.00       203\n",
      "   macro avg       1.00      0.99      1.00       203\n",
      "weighted avg       1.00      1.00      1.00       203\n",
      "\n"
     ]
    }
   ],
   "source": [
    "print(\"\\n--- 6. Final evaluation for extracting errors and probabilities ---\")\n",
    "\n",
    "y_true = []\n",
    "all_preds_prob = []\n",
    "\n",
    "for images, labels in val_ds_unshuffled:\n",
    "    preds = model.predict(images, verbose=0)\n",
    "    y_true.extend(labels.numpy())\n",
    "    all_preds_prob.extend(preds)\n",
    "\n",
    "y_pred_default = np.argmax(all_preds_prob, axis=1)\n",
    "print(\"\\nConfusion Matrix - Threshold 0.5:\")\n",
    "print(confusion_matrix(y_true, y_pred_default))\n",
    "\n",
    "print(\"\\nClassification Report - Threshold 0.5:\")\n",
    "print(classification_report(y_true, y_pred_default, target_names=class_names))"
   ]
  },
  {
   "cell_type": "code",
   "execution_count": 15,
   "id": "7d01ab1e",
   "metadata": {},
   "outputs": [
    {
     "name": "stdout",
     "output_type": "stream",
     "text": [
      "\n",
      "--- ۷. ارزیابی با آستانه تصمیم‌گیری بهینه شده (0.3) ---\n",
      "\n",
      "ماتریس درهم ریختگی (Confusion Matrix) - آستانه 0.3:\n",
      "[[103   1]\n",
      " [  0  99]]\n",
      "\n",
      "گزارش طبقه‌بندی (Classification Report) - آستانه 0.3:\n",
      "              precision    recall  f1-score   support\n",
      "\n",
      "     healthy       1.00      0.99      1.00       104\n",
      "       tumor       0.99      1.00      0.99        99\n",
      "\n",
      "    accuracy                           1.00       203\n",
      "   macro avg       0.99      1.00      1.00       203\n",
      "weighted avg       1.00      1.00      1.00       203\n",
      "\n"
     ]
    }
   ],
   "source": [
    "OPTIMAL_THRESHOLD = 0.30\n",
    "print(f\"\\n--- 7. Evaluation with Optimized Decision Threshold ({OPTIMAL_THRESHOLD}) ---\")\n",
    "y_pred_thresholded = []\n",
    "all_preds_prob_array = np.array(all_preds_prob)\n",
    "\n",
    "tumor_probabilities = all_preds_prob_array[:, 1]\n",
    "y_pred_thresholded = (tumor_probabilities >= OPTIMAL_THRESHOLD).astype(int)\n",
    "\n",
    "print(f\"\\nConfusion Matrix - Threshold {OPTIMAL_THRESHOLD}:\")\n",
    "print(confusion_matrix(y_true, y_pred_thresholded))\n",
    "\n",
    "print(f\"\\nClassification Report - Threshold {OPTIMAL_THRESHOLD}:\")\n",
    "print(classification_report(y_true, y_pred_thresholded, target_names=class_names))"
   ]
  },
  {
   "cell_type": "code",
   "execution_count": 19,
   "id": "0ae9866a",
   "metadata": {},
   "outputs": [
    {
     "data": {
      "text/plain": [
       "<matplotlib.legend.Legend at 0x1cd046eab30>"
      ]
     },
     "execution_count": 19,
     "metadata": {},
     "output_type": "execute_result"
    },
    {
     "data": {
      "image/png": "[encoded data removed]",
      "text/plain": [
       "<Figure size 1200x400 with 1 Axes>"
      ]
     },
     "metadata": {},
     "output_type": "display_data"
    }
   ],
   "source": [
    "plt.figure(figsize=(12, 4))\n",
    "plt.subplot(1, 2, 1)\n",
    "plt.plot(history.history['accuracy'] + history_ft.history['accuracy'], label='Train Accuracy')\n",
    "plt.plot(history.history['val_accuracy'] + history_ft.history['val_accuracy'], label='Validation Accuracy')\n",
    "plt.title('Model Accuracy')\n",
    "plt.xlabel('Epoch')\n",
    "plt.ylabel('Accuracy')\n",
    "plt.legend()"
   ]
  },
  {
   "cell_type": "code",
   "execution_count": 20,
   "id": "10ba9ade",
   "metadata": {},
   "outputs": [
    {
     "data": {
      "text/plain": [
       "<matplotlib.legend.Legend at 0x1cd04771f30>"
      ]
     },
     "execution_count": 20,
     "metadata": {},
     "output_type": "execute_result"
    },
    {
     "data": {
      "image/png": "[encoded data removed]",
      "text/plain": [
       "<Figure size 640x480 with 1 Axes>"
      ]
     },
     "metadata": {},
     "output_type": "display_data"
    }
   ],
   "source": [
    "plt.subplot(1, 2, 2)\n",
    "plt.plot(history.history['loss'] + history_ft.history['loss'], label='Train Loss')\n",
    "plt.plot(history.history['val_loss'] + history_ft.history['val_loss'], label='Validation Loss')\n",
    "plt.title('Model Loss')\n",
    "plt.xlabel('Epoch')\n",
    "plt.ylabel('Loss')\n",
    "plt.legend()"
   ]
  }
 ],
 "metadata": {
  "kernelspec": {
   "display_name": "Python 3 (ipykernel)",
   "language": "python",
   "name": "python3"
  },
  "language_info": {
   "codemirror_mode": {
    "name": "ipython",
    "version": 3
   },
   "file_extension": ".py",
   "mimetype": "text/x-python",
   "name": "python",
   "nbconvert_exporter": "python",
   "pygments_lexer": "ipython3",
   "version": "3.10.9"
  }
 },
 "nbformat": 4,
 "nbformat_minor": 5
}
